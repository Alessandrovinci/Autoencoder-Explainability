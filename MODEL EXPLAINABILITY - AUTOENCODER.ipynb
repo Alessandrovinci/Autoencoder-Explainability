{
 "cells": [
  {
   "cell_type": "code",
   "execution_count": null,
   "metadata": {},
   "outputs": [],
   "source": [
    "# loading the database ..."
   ]
  },
  {
   "cell_type": "code",
   "execution_count": 2,
   "metadata": {},
   "outputs": [],
   "source": [
    "import pandas as pd\n",
    "import numpy as np"
   ]
  },
  {
   "cell_type": "code",
   "execution_count": 5,
   "metadata": {},
   "outputs": [
    {
     "data": {
      "text/html": [
       "<div>\n",
       "<style scoped>\n",
       "    .dataframe tbody tr th:only-of-type {\n",
       "        vertical-align: middle;\n",
       "    }\n",
       "\n",
       "    .dataframe tbody tr th {\n",
       "        vertical-align: top;\n",
       "    }\n",
       "\n",
       "    .dataframe thead th {\n",
       "        text-align: right;\n",
       "    }\n",
       "</style>\n",
       "<table border=\"1\" class=\"dataframe\">\n",
       "  <thead>\n",
       "    <tr style=\"text-align: right;\">\n",
       "      <th></th>\n",
       "      <th>Actor_id</th>\n",
       "      <th>date</th>\n",
       "      <th>number of trades</th>\n",
       "      <th>scenario traded</th>\n",
       "      <th>asset</th>\n",
       "      <th>num. alerts raised</th>\n",
       "    </tr>\n",
       "  </thead>\n",
       "  <tbody>\n",
       "    <tr>\n",
       "      <th>0</th>\n",
       "      <td>actor1</td>\n",
       "      <td>30/10/2024</td>\n",
       "      <td>500</td>\n",
       "      <td>scenario1</td>\n",
       "      <td>equity</td>\n",
       "      <td>5</td>\n",
       "    </tr>\n",
       "    <tr>\n",
       "      <th>1</th>\n",
       "      <td>actor2</td>\n",
       "      <td>20/10/2024</td>\n",
       "      <td>100</td>\n",
       "      <td>scenario3</td>\n",
       "      <td>equity</td>\n",
       "      <td>0</td>\n",
       "    </tr>\n",
       "    <tr>\n",
       "      <th>2</th>\n",
       "      <td>actor3</td>\n",
       "      <td>21/10/2024</td>\n",
       "      <td>5200</td>\n",
       "      <td>scenario1</td>\n",
       "      <td>options</td>\n",
       "      <td>0</td>\n",
       "    </tr>\n",
       "    <tr>\n",
       "      <th>3</th>\n",
       "      <td>actor4</td>\n",
       "      <td>22/10/2024</td>\n",
       "      <td>400</td>\n",
       "      <td>scenario2</td>\n",
       "      <td>FI</td>\n",
       "      <td>1</td>\n",
       "    </tr>\n",
       "  </tbody>\n",
       "</table>\n",
       "</div>"
      ],
      "text/plain": [
       "  Actor_id        date  number of trades scenario traded    asset  \\\n",
       "0   actor1  30/10/2024               500       scenario1   equity   \n",
       "1   actor2  20/10/2024               100       scenario3   equity   \n",
       "2   actor3  21/10/2024              5200       scenario1  options   \n",
       "3   actor4  22/10/2024               400       scenario2       FI   \n",
       "\n",
       "   num. alerts raised  \n",
       "0                   5  \n",
       "1                   0  \n",
       "2                   0  \n",
       "3                   1  "
      ]
     },
     "execution_count": 5,
     "metadata": {},
     "output_type": "execute_result"
    }
   ],
   "source": [
    "example = pd.DataFrame([['actor1',\"30/10/2024\", 500, 'scenario1', 'equity', 5],\n",
    "                        ['actor2',\"20/10/2024\", 100, 'scenario3', 'equity', 0],\n",
    "                        ['actor3',\"21/10/2024\", 5200, 'scenario1', 'options', 0],\n",
    "                        ['actor4',\"22/10/2024\", 400, 'scenario2', 'FI', 1]], columns = [\"Actor_id\", \"date\", \"number of trades\", \"scenario traded\", \"asset\", \"num. alerts raised\"])\n",
    "example\n",
    "#example of the database"
   ]
  },
  {
   "cell_type": "markdown",
   "metadata": {},
   "source": [
    "# set up the autoencoder"
   ]
  },
  {
   "cell_type": "code",
   "execution_count": 16,
   "metadata": {},
   "outputs": [],
   "source": [
    "import tensorflow as tf \n",
    "from tensorflow.keras import Model, regularizers\n",
    "from tensorflow.keras.layers import Input, Dense\n",
    "from tensorflow.keras.optimizers import Adam, SGD, RMSprop\n",
    "from tensorflow.keras.losses import MeanSquaredError\n",
    "from tensorflow.keras.callbacks import EarlyStopping"
   ]
  },
  {
   "cell_type": "code",
   "execution_count": 12,
   "metadata": {},
   "outputs": [],
   "source": [
    "def Autoencoder_settings(input_shape, encoding_dim, activation, regularization):\n",
    "    # Define the input layer\n",
    "    input_layer = Input(shape=(input_shape, ))\n",
    "    # Define the encoder Layers\n",
    "    encoder_layer1 = Dense(input_shape, activation=activation, kernel_regularizer=regularizers.l1(regularization)) (input_layer)\n",
    "    encoder_layer2 = Dense(encoding_dim, activation=activation) (encoder_layer1)\n",
    "    encoder_layer3 = Dense(int(encoding_dim/2), activation=activation, kernel_regularizer=regularizers.l2(regularization)) (encoder_layer2)\n",
    "    # Define the decoder Layers\n",
    "    decoder_layer1 = Dense(int(encoding_dim/2), activation=activation) (encoder_layer3)\n",
    "    decoder_layer2 = Dense(encoding_dim, activation=activation) (decoder_layer1)\n",
    "    decoder_layer3 = Dense (input_shape, activation=activation) (decoder_layer2)\n",
    "    # Create the autoencoder model\n",
    "    autoencoder = Model(inputs=input_layer, outputs=decoder_layer3)\n",
    "    encoder_m = Model(inputs=input_layer, outputs=encoder_layer3)\n",
    "    return autoencoder, encoder_m\n"
   ]
  },
  {
   "cell_type": "code",
   "execution_count": 17,
   "metadata": {},
   "outputs": [
    {
     "name": "stdout",
     "output_type": "stream",
     "text": [
      "Model: \"model\"\n",
      "_________________________________________________________________\n",
      "Layer (type)                 Output Shape              Param #   \n",
      "=================================================================\n",
      "input_2 (InputLayer)         [(None, 498)]             0         \n",
      "_________________________________________________________________\n",
      "dense (Dense)                (None, 498)               248502    \n",
      "_________________________________________________________________\n",
      "dense_1 (Dense)              (None, 16)                7984      \n",
      "_________________________________________________________________\n",
      "dense_2 (Dense)              (None, 8)                 136       \n",
      "_________________________________________________________________\n",
      "dense_3 (Dense)              (None, 8)                 72        \n",
      "_________________________________________________________________\n",
      "dense_4 (Dense)              (None, 16)                144       \n",
      "_________________________________________________________________\n",
      "dense_5 (Dense)              (None, 498)               8466      \n",
      "=================================================================\n",
      "Total params: 265,304\n",
      "Trainable params: 265,304\n",
      "Non-trainable params: 0\n",
      "_________________________________________________________________\n"
     ]
    }
   ],
   "source": [
    "test_encoder, _ =  Autoencoder_settings(498, 16, \"relu\", 0.001)\n",
    "test_encoder.summary()"
   ]
  },
  {
   "cell_type": "code",
   "execution_count": null,
   "metadata": {},
   "outputs": [],
   "source": [
    "# apply bayes Optimization to identify the best parameters for the autoencoder"
   ]
  },
  {
   "cell_type": "code",
   "execution_count": null,
   "metadata": {},
   "outputs": [],
   "source": [
    "space = {\n",
    "'encoding_dim': hp.quniform('encoding_dim', 16, int(train_x-shape[1]/2), 1),\n",
    "'Ir': hp.uniform('lr', le-6, le-2),\n",
    "\"weight_decay\": hp.uniform('weight_decay', le-5, 1e-1),\n",
    "'num_epochs': hp.quniform('num_epochs', 50, 150, 1),\n",
    "'batch_size': hp.quniform('batch_size', 32, 256, 1),\n",
    "'activation': hp. choice('activation', [\"relu\", \"tanh\", \"sigmoid\"]),\n",
    "'optimizer': hp.choice('optimizer',[\"adam\", \"sgd\", \"rms\"]),\n",
    "\"loss_function\": hp. Choice( 'loss_function', ['mse'])\n",
    "}\n",
    "\n",
    "def objective(space):\n",
    "    encoding_dim = int(space['encoding_dim'])\n",
    "    activation_name = space[ 'activation']\n",
    "    weight_decay = space[ 'weight_decay']\n",
    "    autoencoder, _ = Autoencoder_settings(train_x.shape[1], encoding_dim, activation_name, weight_decay)\n",
    "    print (autoencoder. summary())\n",
    "    print (\"\\n\")\n",
    "    Ir = space['lr']\n",
    "    loss_function = space['loss_function\"]\n",
    "    optimizer_function ={'adam': Adam(learning_rate=lr), 'sgd': SGD(learning_rate=lr), 'rms': RMSprop(lr = 1lr)}\n",
    "                          \n",
    "    optimizer = optimizer_function[space[ 'optimizer']]\n",
    "    autoencoder.compile(metrics = ['mse'], loss= loss_function, optimizer=optimizer)\n",
    "    num_epochs = int(space[\"num_epochs\"])\n",
    "    batch_size = int(space[ 'batch_size'])\n",
    "    early_stopping = EarlyStopping(monitor='val_loss', patience=10)\n",
    "                          \n",
    "    tb = TensorBoard(log_dir='./logs' ,\n",
    "        histogram_freq=0, write_graph=True, write images=True)\n",
    "                          \n",
    "    history = autoencoder.fit(train_x, train_x, epochs=num_epochs, batch_size=batch_size,\n",
    "        shuffle=True, verbose=0, validation_data=(test_x, test_x), callbacks=[early_stopping, tb])\n",
    "    best_val_loss = np.min(history.history['val_loss'])\n",
    "    print (\"SCORE:\", best_val_loss)\n",
    "    return { 'loss': best_val_loss,'status': STATUS_OK}\n",
    "\n"
   ]
  },
  {
   "cell_type": "code",
   "execution_count": null,
   "metadata": {},
   "outputs": [],
   "source": [
    "trials = Trials()\n",
    "\n",
    "best_hyperparams = fmin(fn = objective, space =space, algo = tpe.suggest, max_evals = 200, trials = trials)\n",
    "\n",
    "choices = {\n",
    "    'activation':['relu','tanh','sigmoid']\n",
    "    'optimizer': ['adam','sgd','rms']\n",
    "    'loss_function':['mse'] }\n",
    "\n",
    "tuned_param = {}\n",
    "for param in best_hyperparams:\n",
    "    if param in choices.keys():\n",
    "        tuned_param[param] = choices[param][best_hyperparams[param]]\n",
    "    else:\n",
    "        tuned_param[param] = best_hyperparams[param]\n",
    "tuned_param"
   ]
  },
  {
   "cell_type": "code",
   "execution_count": null,
   "metadata": {},
   "outputs": [],
   "source": [
    "{'activation':'relu', 'batch_size': 181.0, 'encoding_dim': 134.0, 'loss_function':'mse', \n",
    " 'lr': 0.0040588835776837855, 'num_epochs': 89.0, 'optimizer': 'rms', 'weight_decay': 3.1711647986993e-05}"
   ]
  },
  {
   "cell_type": "code",
   "execution_count": null,
   "metadata": {},
   "outputs": [],
   "source": [
    "#retrain the model with the tuned parameters ..."
   ]
  },
  {
   "cell_type": "code",
   "execution_count": null,
   "metadata": {},
   "outputs": [],
   "source": [
    "# PREDICT THE RECONSTRUCTION ERROR TO SPOT POTENTIAL ANOMALIES"
   ]
  },
  {
   "cell_type": "code",
   "execution_count": null,
   "metadata": {},
   "outputs": [],
   "source": [
    "autoencoder = load_model('modelpath')\n",
    "# COMPUTE RECONSTRUCTION ERROR MATRIX on all samples\n",
    "X_standard = shapdf.copy(deep=True)\n",
    "X_reconstruction = autoencoder.predict(X_standard.values)\n",
    "X_reconstruction = pd.DataFrame(X_reconstruction)\n",
    "X_reconstruction.columns = X_standard.columns\n",
    "X_reconstruction-index = X_standard.index\n",
    "rec_err = np.linalg.norm(X_standard - X_reconstruction, axis = 1)\n",
    "X_standard['error'] = rec_err\n"
   ]
  },
  {
   "cell_type": "code",
   "execution_count": 19,
   "metadata": {},
   "outputs": [
    {
     "name": "stdout",
     "output_type": "stream",
     "text": [
      "130.056\n"
     ]
    }
   ],
   "source": [
    "#example of a prediction value\n",
    "X_standard.iloc[0]['error']"
   ]
  },
  {
   "cell_type": "code",
   "execution_count": null,
   "metadata": {},
   "outputs": [],
   "source": [
    "#EXPLAIN THE RECONSTRUCTION ERROR VIA SHAP VALUES"
   ]
  },
  {
   "cell_type": "code",
   "execution_count": null,
   "metadata": {},
   "outputs": [],
   "source": [
    "# set up SHAP model\n",
    "background = X_standard.values[np.random.choice(X_standard.shape[0], 600, replace=False)]\n",
    "explainer_autoencoder = shap.DeepExplainer(autoencoder, background)"
   ]
  },
  {
   "cell_type": "code",
   "execution_count": null,
   "metadata": {},
   "outputs": [],
   "source": [
    "X_standard[ 'key'] = X_standard.index\n",
    "#SET UP THE UDF\n",
    "# convert pandas dataframe to pyspark dataframe\n",
    "pandas_df = X_standard.to_dict(orient= 'records' )\n",
    "columns_for_shap_calculation = X_standard.columns\n",
    "return_schema = StructType()\n",
    "for feature in columns_for_shap_calculation:\n",
    "    return_schema = return_schema.add(StructField(feature, FloatType() ))\n",
    "    \n",
    "return_schema = return_schema.add(StructField('shap_results', StringType()))\n",
    "spark_df = spark.createDataFrame(pandas_df)"
   ]
  },
  {
   "cell_type": "code",
   "execution_count": null,
   "metadata": {},
   "outputs": [],
   "source": [
    "def calculate_shap(iterator):\n",
    "    #Load the explainer\n",
    "    explainer_autoencoder  = shap.DeepExplainer (autoencoder, background)\n",
    "    #for each batch\n",
    "    for pdf in iterator:\n",
    "    #compute shap values on the batch\n",
    "        temp = pdf.drop(\"key\" ,axis=1). values\n",
    "        shapv = explainer_autoencoder.shap_values(temp)\n",
    "        #for each observation in the batch\n",
    "        for i, X in pdf.iterrows ():\n",
    "            #store the index for mapping purposes\n",
    "            idx = X[' key']\n",
    "            #Load reconstruction error of this observation\n",
    "            reconstructed_sample = pd.DataFrame(X_reconstruction.loc[idx])\n",
    "            reconstructed_sample.columns = ['Reconstruction error']\n",
    "            \n",
    "            #identify top 5 features representing the reconstruction error\n",
    "            reconstructed_sample_abs = reconstructed_sample.apply(lambda x: np.abs(x))\n",
    "            reconstructed_sample_abs = reconstructed_sample_abs.sort_values(\"Reconstruction_error\", ascending = False)\n",
    "            top_5_features_error = reconstructed_sample.loc[reconstructed_sample_abs.index, : ]\n",
    "            top_5_features_error = top_5_features error.iloc[0:5]\n",
    "            \n",
    "            SHAP_top_5_features_error = pd.DataFrame()\n",
    "            # for each feature of the top 5 extract the related shap values\n",
    "            for featurename in top_5_features_error.index:\n",
    "                feature index = list(reconstructed_sample.index).index(featurename)\n",
    "                shap_values = shapv[feature_index][i]\n",
    "                SHAP_top_5_features error[str(featurename)] = pd.Series(shap_values.reshape(-1))\n",
    "                SHAP_top_5_features error.index = reconstructed_sample.index\n",
    "                # identify contributing and offsetting features\n",
    "                top_5_features_error[ 'contributing' ] = (top_5_features_error[ 'Reconstruction error'] › 0).astype(int)\n",
    "            for j in range(top_5_features error.shape[0]):\n",
    "                if top_5_features_error [ 'contributing' ][j] == 0:\n",
    "                        SHAP_top_5_features_error[top_5_features_error.index[jl] *= -1\n",
    "                                    \n",
    "            #Aggregate shap values across features to get 1 single value\n",
    "            results = SHAP_top_5_features_error-median(axis=1).tolist()\n",
    "            results_dict = {X_reconstruction.columns[i]: results[i] for i in range(len(results))}\n",
    "            #store the results as json\n",
    "            shap_results = json.dumps(results_dict)\n",
    "            X['shap_results'] = shap_results\n",
    "            yield X.to_frame().T\n",
    "                                            "
   ]
  },
  {
   "cell_type": "code",
   "execution_count": null,
   "metadata": {},
   "outputs": [],
   "source": [
    "result_df = spark_df.mapInPandas(calculate_shap_t, schema=return_schema)"
   ]
  },
  {
   "cell_type": "code",
   "execution_count": null,
   "metadata": {},
   "outputs": [],
   "source": [
    "# plot results"
   ]
  },
  {
   "cell_type": "code",
   "execution_count": 37,
   "metadata": {},
   "outputs": [
    {
     "data": {
      "image/png": "[encoded data removed]",
      "text/plain": [
       "<Figure size 1296x576 with 2 Axes>"
      ]
     },
     "metadata": {
      "needs_background": "light"
     },
     "output_type": "display_data"
    }
   ],
   "source": [
    "import matplotlib.pyplot as plt\n",
    "import numpy as np\n",
    "\n",
    "# Feature sample names\n",
    "contributing_features = [f'Feature {i}' for i in range(1, 7)]\n",
    "offsetting_features = [f'Feature {i}' for i in range(7, 13)]\n",
    "\n",
    "# SHAP values for contributing and offsetting features\n",
    "contributing_values = np.array([0.6, 0.55, 0.28, 0.25, 0.16, 0.15])\n",
    "offsetting_values = np.array([-0.38, -0.30, -0.24, -0.15, -0.12, -0.1])  \n",
    "\n",
    "fig, axes = plt.subplots(ncols=2, figsize=(18, 8))\n",
    "fig.suptitle('Shap values - anomaly spotted on: Actor 1, \"30/20/2024\"',y=1.05, fontsize=14, fontweight='bold')\n",
    "\n",
    "\n",
    "# features contributing to the anomaly (blue bars)\n",
    "axes[0].barh(contributing_features, contributing_values, color='blue')\n",
    "axes[0].set_title(\"Contributing Features\")\n",
    "axes[0].set_xlim(0, max(contributing_values) * 1.2)\n",
    "\n",
    "# features offsetting the anomaly (red bars)\n",
    "axes[1].barh(offsetting_features, offsetting_values, color='red')\n",
    "axes[1].set_title(\"Offsetting Features\")\n",
    "axes[1].set_xlim(-0.4, 0)\n",
    "\n",
    "plt.tight_layout()\n",
    "plt.show()"
   ]
  }
 ],
 "metadata": {
  "kernelspec": {
   "display_name": "Python 3",
   "language": "python",
   "name": "python3"
  },
  "language_info": {
   "codemirror_mode": {
    "name": "ipython",
    "version": 3
   },
   "file_extension": ".py",
   "mimetype": "text/x-python",
   "name": "python",
   "nbconvert_exporter": "python",
   "pygments_lexer": "ipython3",
   "version": "3.8.3"
  }
 },
 "nbformat": 4,
 "nbformat_minor": 4
}
